{
 "cells": [
  {
   "cell_type": "code",
   "execution_count": 1,
   "metadata": {},
   "outputs": [],
   "source": [
    "import torch\n",
    "import numpy as np\n",
    "from torch.autograd import Variable\n",
    "from torch.utils.data import Dataset, DataLoader"
   ]
  },
  {
   "cell_type": "code",
   "execution_count": 2,
   "metadata": {},
   "outputs": [],
   "source": [
    "class DiabetesDataset(Dataset):\n",
    "    def __init__(self):\n",
    "        xy = np.loadtxt('diabetes.csv', delimiter=',', dtype=np.float32)\n",
    "        self.len = xy.shape[0]\n",
    "        self.x_data = torch.from_numpy(xy[:, 0:-1])\n",
    "        self.y_data = torch.from_numpy(xy[:, [-1]])\n",
    "        \n",
    "    def __getitem__(self, index):\n",
    "        return self.x_data[index], self.y_data[index]\n",
    "    \n",
    "    def __len__(self):\n",
    "        return self.len"
   ]
  },
  {
   "cell_type": "code",
   "execution_count": 3,
   "metadata": {},
   "outputs": [
    {
     "name": "stdout",
     "output_type": "stream",
     "text": [
      "(759, 9)\n",
      "759\n",
      "torch.Size([759, 8])\n",
      "torch.Size([759, 1])\n"
     ]
    }
   ],
   "source": [
    "xy = np.loadtxt('diabetes.csv', delimiter=',', dtype=np.float32)\n",
    "len = xy.shape[0]\n",
    "x_data = torch.from_numpy(xy[:, 0:-1])\n",
    "y_data = torch.from_numpy(xy[:, [-1]])\n",
    "\n",
    "\n",
    "print(xy.shape)\n",
    "print(xy.shape[0])\n",
    "print(x_data.shape)\n",
    "print(y_data.shape)"
   ]
  },
  {
   "cell_type": "code",
   "execution_count": 4,
   "metadata": {},
   "outputs": [],
   "source": [
    "dataset = DiabetesDataset()\n",
    "# batch_size => 배치사이즈 (759/32 = 23개) \n",
    "# num_workers => 데이터로더 멀티쓰래딩(빠르게 데이터를 가져올 수 있음)\n",
    "train_loader = DataLoader(dataset=dataset, batch_size=32, shuffle=True, num_workers=2)"
   ]
  },
  {
   "cell_type": "code",
   "execution_count": 5,
   "metadata": {},
   "outputs": [],
   "source": [
    "class Model(torch.nn.Module):\n",
    "    def __init__(self):\n",
    "        super(Model, self).__init__()\n",
    "        self.l1 = torch.nn.Linear(8, 6)\n",
    "        self.l2 = torch.nn.Linear(6, 4)\n",
    "        self.l3 = torch.nn.Linear(4, 1)\n",
    "        \n",
    "        self.sigmoid = torch.nn.Sigmoid()\n",
    "    \n",
    "    def forward(self, x):\n",
    "        out1 = self.sigmoid(self.l1(x))\n",
    "        out2 = self.sigmoid(self.l2(out1))\n",
    "        y_pred = self.sigmoid(self.l3(out2))\n",
    "        \n",
    "        return y_pred"
   ]
  },
  {
   "cell_type": "code",
   "execution_count": 6,
   "metadata": {},
   "outputs": [],
   "source": [
    "model = Model()"
   ]
  },
  {
   "cell_type": "code",
   "execution_count": 7,
   "metadata": {},
   "outputs": [],
   "source": [
    "criterion = torch.nn.BCELoss(reduction='mean')\n",
    "optimizer = torch.optim.SGD(model.parameters(), lr=0.1)"
   ]
  },
  {
   "cell_type": "code",
   "execution_count": 8,
   "metadata": {},
   "outputs": [
    {
     "name": "stdout",
     "output_type": "stream",
     "text": [
      "0 0 0.6856139302253723\n",
      "0 1 0.5194529891014099\n",
      "0 2 0.6001556515693665\n",
      "0 3 0.5773700475692749\n",
      "0 4 0.5987153053283691\n",
      "0 5 0.6674009561538696\n",
      "0 6 0.6673120856285095\n",
      "0 7 0.7111493349075317\n",
      "0 8 0.6220303773880005\n",
      "0 9 0.7091007232666016\n",
      "0 10 0.6227344274520874\n",
      "0 11 0.6011865139007568\n",
      "0 12 0.7087043523788452\n",
      "0 13 0.6226111650466919\n",
      "0 14 0.7070028185844421\n",
      "0 15 0.664315402507782\n",
      "0 16 0.6028369069099426\n",
      "0 17 0.6434855461120605\n",
      "0 18 0.5407591462135315\n",
      "0 19 0.6221234202384949\n",
      "0 20 0.8176464438438416\n",
      "0 21 0.7035054564476013\n",
      "0 22 0.6245847344398499\n",
      "0 23 0.6740406155586243\n",
      "1 0 0.6439202427864075\n",
      "1 1 0.6044740676879883\n",
      "1 2 0.5640257000923157\n",
      "1 3 0.66428542137146\n",
      "1 4 0.623073399066925\n",
      "1 5 0.767324686050415\n",
      "1 6 0.7210488319396973\n",
      "1 7 0.6432950496673584\n",
      "1 8 0.5685293078422546\n",
      "1 9 0.6047720909118652\n",
      "1 10 0.5832666158676147\n",
      "1 11 0.5816816091537476\n",
      "1 12 0.5591020584106445\n",
      "1 13 0.6660110950469971\n",
      "1 14 0.6217886209487915\n",
      "1 15 0.7093781232833862\n",
      "1 16 0.7075766921043396\n",
      "1 17 0.64382404088974\n",
      "1 18 0.6643363833427429\n",
      "1 19 0.7247600555419922\n",
      "1 20 0.6827584505081177\n",
      "1 21 0.6053498387336731\n",
      "1 22 0.6633374094963074\n",
      "1 23 0.6996847987174988\n"
     ]
    }
   ],
   "source": [
    "for epoch in range(2):\n",
    "    for i, data in enumerate(train_loader, 0):\n",
    "        inputs, labels = data\n",
    "        inputs, labels = Variable(inputs), Variable(labels)\n",
    "        \n",
    "        y_pred = model(inputs)\n",
    "\n",
    "        loss = criterion(y_pred, labels)\n",
    "        print(epoch, i, loss.item())\n",
    "\n",
    "        optimizer.zero_grad()\n",
    "        loss.backward()\n",
    "        optimizer.step()"
   ]
  }
 ],
 "metadata": {
  "kernelspec": {
   "display_name": "Python 3",
   "language": "python",
   "name": "python3"
  },
  "language_info": {
   "codemirror_mode": {
    "name": "ipython",
    "version": 3
   },
   "file_extension": ".py",
   "mimetype": "text/x-python",
   "name": "python",
   "nbconvert_exporter": "python",
   "pygments_lexer": "ipython3",
   "version": "3.6.5"
  }
 },
 "nbformat": 4,
 "nbformat_minor": 2
}
